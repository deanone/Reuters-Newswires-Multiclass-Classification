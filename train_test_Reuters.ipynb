{
 "cells": [
  {
   "cell_type": "code",
   "execution_count": 4,
   "metadata": {},
   "outputs": [
    {
     "name": "stderr",
     "output_type": "stream",
     "text": [
      "Using TensorFlow backend.\n"
     ]
    }
   ],
   "source": [
    "from keras.datasets import reuters\n",
    "\n",
    "(train_data, train_labels), (test_data, test_labels) = reuters.load_data(num_words=10000)"
   ]
  },
  {
   "cell_type": "code",
   "execution_count": 10,
   "metadata": {
    "collapsed": true
   },
   "outputs": [],
   "source": [
    "import numpy as np\n",
    "\n",
    "# Data vectorization function\n",
    "def vectorize_sequences(sequences, dimension=10000):\n",
    "    results = np.zeros((len(sequences), dimension))\n",
    "    for i, sequence in enumerate(sequences):\n",
    "        results[i, sequence] = 1\n",
    "    return results\n",
    "\n",
    "x_train = vectorize_sequences(train_data)\n",
    "x_test = vectorize_sequences(test_data)\n",
    "\n",
    "# I can also do OHE with the built-in Keras function to_categorical\n",
    "def to_one_hot(labels, dimension=46):\n",
    "    results = np.zeros((len(labels), dimension))\n",
    "    for i, label in enumerate(labels):\n",
    "        results[i, label] = 1\n",
    "    return results\n",
    "\n",
    "one_hot_train_labels = to_one_hot(train_labels)\n",
    "one_hot_test_labels = to_one_hot(test_labels)"
   ]
  },
  {
   "cell_type": "code",
   "execution_count": 12,
   "metadata": {},
   "outputs": [],
   "source": [
    "# Extract validation set from the training set\n",
    "\n",
    "x_val = x_train[:1000]\n",
    "partial_x_train = x_train[1000:]\n",
    "\n",
    "y_val = one_hot_train_labels[:1000]\n",
    "partial_y_train = one_hot_train_labels[1000:]"
   ]
  },
  {
   "cell_type": "code",
   "execution_count": 17,
   "metadata": {},
   "outputs": [
    {
     "name": "stdout",
     "output_type": "stream",
     "text": [
      "Train on 7982 samples, validate on 1000 samples\n",
      "Epoch 1/20\n",
      "7982/7982 [==============================] - 1s 161us/step - loss: 2.4995 - acc: 0.4897 - val_loss: 1.6817 - val_acc: 0.6460\n",
      "Epoch 2/20\n",
      "7982/7982 [==============================] - 1s 102us/step - loss: 1.3914 - acc: 0.7041 - val_loss: 1.2780 - val_acc: 0.7180\n",
      "Epoch 3/20\n",
      "7982/7982 [==============================] - 1s 100us/step - loss: 1.0477 - acc: 0.7700 - val_loss: 1.1174 - val_acc: 0.7630\n",
      "Epoch 4/20\n",
      "7982/7982 [==============================] - 1s 99us/step - loss: 0.8241 - acc: 0.8281 - val_loss: 1.0219 - val_acc: 0.7750\n",
      "Epoch 5/20\n",
      "7982/7982 [==============================] - 1s 108us/step - loss: 0.6597 - acc: 0.8637 - val_loss: 0.9704 - val_acc: 0.7950\n",
      "Epoch 6/20\n",
      "7982/7982 [==============================] - 1s 100us/step - loss: 0.5252 - acc: 0.8939 - val_loss: 0.9205 - val_acc: 0.8110\n",
      "Epoch 7/20\n",
      "7982/7982 [==============================] - 1s 101us/step - loss: 0.4288 - acc: 0.9113 - val_loss: 0.9099 - val_acc: 0.8040\n",
      "Epoch 8/20\n",
      "7982/7982 [==============================] - 1s 107us/step - loss: 0.3495 - acc: 0.9276 - val_loss: 0.8939 - val_acc: 0.8150\n",
      "Epoch 9/20\n",
      "7982/7982 [==============================] - 1s 103us/step - loss: 0.2892 - acc: 0.9387 - val_loss: 0.9111 - val_acc: 0.8110\n",
      "Epoch 10/20\n",
      "7982/7982 [==============================] - 1s 102us/step - loss: 0.2446 - acc: 0.9453 - val_loss: 0.9132 - val_acc: 0.8100\n",
      "Epoch 11/20\n",
      "7982/7982 [==============================] - 1s 105us/step - loss: 0.2101 - acc: 0.9485 - val_loss: 0.9496 - val_acc: 0.8120\n",
      "Epoch 12/20\n",
      "7982/7982 [==============================] - 1s 100us/step - loss: 0.1881 - acc: 0.9525 - val_loss: 0.9607 - val_acc: 0.8030\n",
      "Epoch 13/20\n",
      "7982/7982 [==============================] - 1s 99us/step - loss: 0.1658 - acc: 0.9528 - val_loss: 0.9922 - val_acc: 0.7980\n",
      "Epoch 14/20\n",
      "7982/7982 [==============================] - 1s 102us/step - loss: 0.1532 - acc: 0.9549 - val_loss: 0.9776 - val_acc: 0.8060\n",
      "Epoch 15/20\n",
      "7982/7982 [==============================] - 1s 106us/step - loss: 0.1454 - acc: 0.9549 - val_loss: 1.0193 - val_acc: 0.7990\n",
      "Epoch 16/20\n",
      "7982/7982 [==============================] - 1s 99us/step - loss: 0.1329 - acc: 0.9555 - val_loss: 1.0391 - val_acc: 0.7980\n",
      "Epoch 17/20\n",
      "7982/7982 [==============================] - 1s 102us/step - loss: 0.1255 - acc: 0.9559 - val_loss: 1.0461 - val_acc: 0.7980\n",
      "Epoch 18/20\n",
      "7982/7982 [==============================] - 1s 103us/step - loss: 0.1172 - acc: 0.9560 - val_loss: 1.0401 - val_acc: 0.8120\n",
      "Epoch 19/20\n",
      "7982/7982 [==============================] - 1s 102us/step - loss: 0.1160 - acc: 0.9570 - val_loss: 1.0312 - val_acc: 0.8080\n",
      "Epoch 20/20\n",
      "7982/7982 [==============================] - 1s 101us/step - loss: 0.1134 - acc: 0.9582 - val_loss: 1.0506 - val_acc: 0.8040\n"
     ]
    }
   ],
   "source": [
    "# Build the network\n",
    "\n",
    "from keras import models\n",
    "from keras import layers\n",
    "\n",
    "model = models.Sequential()\n",
    "model.add(layers.Dense(64, activation='relu', input_shape=(10000,)))\n",
    "model.add(layers.Dense(64, activation='relu'))\n",
    "model.add(layers.Dense(46, activation='softmax'))\n",
    "\n",
    "model.compile(optimizer='rmsprop', loss='categorical_crossentropy', metrics=['accuracy'])\n",
    "history = model.fit(partial_x_train, partial_y_train, epochs=20, batch_size=512, validation_data=(x_val, y_val))"
   ]
  },
  {
   "cell_type": "code",
   "execution_count": 18,
   "metadata": {},
   "outputs": [
    {
     "data": {
      "image/png": "[encoded data removed]",
      "text/plain": [
       "<matplotlib.figure.Figure at 0x7f8d678d46a0>"
      ]
     },
     "metadata": {},
     "output_type": "display_data"
    }
   ],
   "source": [
    "# Plot training and validation loss\n",
    "import matplotlib.pyplot as plt\n",
    "\n",
    "history_dict = history.history\n",
    "loss_values = history_dict['loss']\n",
    "val_loss_values = history_dict['val_loss']\n",
    "\n",
    "epochs = range(1, len(loss_values) + 1)\n",
    "\n",
    "plt.plot(epochs, loss_values, 'bo', label='Training loss')\n",
    "plt.plot(epochs, val_loss_values, 'b', label='Validation loss')\n",
    "plt.title('Training loss and validation loss')\n",
    "plt.xlabel('Epochs')\n",
    "plt.ylabel('Loss')\n",
    "plt.legend()\n",
    "\n",
    "plt.show()"
   ]
  },
  {
   "cell_type": "code",
   "execution_count": 19,
   "metadata": {},
   "outputs": [
    {
     "data": {
      "image/png": "[encoded data removed]",
      "text/plain": [
       "<matplotlib.figure.Figure at 0x7f8d65ff7390>"
      ]
     },
     "metadata": {},
     "output_type": "display_data"
    }
   ],
   "source": [
    "# Plot training and validation accuracy\n",
    "\n",
    "plt.clf()\n",
    "acc_values = history_dict['acc']\n",
    "val_acc_values = history_dict['val_acc']\n",
    "\n",
    "plt.plot(epochs, acc_values, 'bo', label='Training accuracy')\n",
    "plt.plot(epochs, val_acc_values, 'b', label='Validation accuracy')\n",
    "plt.title('Training and validation accuracy')\n",
    "plt.xlabel('Epochs')\n",
    "plt.ylabel('Accuracy')\n",
    "plt.legend()\n",
    "\n",
    "plt.show()"
   ]
  },
  {
   "cell_type": "code",
   "execution_count": 22,
   "metadata": {},
   "outputs": [
    {
     "name": "stdout",
     "output_type": "stream",
     "text": [
      "Train on 7982 samples, validate on 1000 samples\n",
      "Epoch 1/9\n",
      "7982/7982 [==============================] - 1s 121us/step - loss: 0.0834 - acc: 0.9590 - val_loss: 1.3007 - val_acc: 0.7960\n",
      "Epoch 2/9\n",
      "7982/7982 [==============================] - 1s 121us/step - loss: 0.0836 - acc: 0.9569 - val_loss: 1.2451 - val_acc: 0.7980\n",
      "Epoch 3/9\n",
      "7982/7982 [==============================] - 1s 114us/step - loss: 0.0882 - acc: 0.9575 - val_loss: 1.2904 - val_acc: 0.8010\n",
      "Epoch 4/9\n",
      "7982/7982 [==============================] - 1s 115us/step - loss: 0.0826 - acc: 0.9594 - val_loss: 1.3202 - val_acc: 0.7930\n",
      "Epoch 5/9\n",
      "7982/7982 [==============================] - 1s 114us/step - loss: 0.0852 - acc: 0.9577 - val_loss: 1.3097 - val_acc: 0.7840\n",
      "Epoch 6/9\n",
      "7982/7982 [==============================] - 1s 121us/step - loss: 0.0793 - acc: 0.9607 - val_loss: 1.3887 - val_acc: 0.7830\n",
      "Epoch 7/9\n",
      "7982/7982 [==============================] - 1s 115us/step - loss: 0.0852 - acc: 0.9580 - val_loss: 1.3048 - val_acc: 0.7930\n",
      "Epoch 8/9\n",
      "7982/7982 [==============================] - 1s 114us/step - loss: 0.0847 - acc: 0.9558 - val_loss: 1.3847 - val_acc: 0.7780\n",
      "Epoch 9/9\n",
      "7982/7982 [==============================] - 1s 121us/step - loss: 0.0792 - acc: 0.9593 - val_loss: 1.3364 - val_acc: 0.7910\n",
      "2246/2246 [==============================] - 0s 84us/step\n",
      "[1.5152338173170761, 0.77738201246660732]\n"
     ]
    }
   ],
   "source": [
    "# Because the model overfits after 9 epochs, we retrain with 9 epochs\n",
    "# and evaluate it on the test set\n",
    "\n",
    "history = model.fit(partial_x_train, partial_y_train, epochs=9, batch_size=512, validation_data=(x_val, y_val))\n",
    "results1 = model.evaluate(x_test, one_hot_test_labels)\n",
    "print(results1)"
   ]
  },
  {
   "cell_type": "code",
   "execution_count": 25,
   "metadata": {},
   "outputs": [],
   "source": [
    "predictions = model.predict(x_test)"
   ]
  },
  {
   "cell_type": "code",
   "execution_count": 26,
   "metadata": {},
   "outputs": [
    {
     "data": {
      "text/plain": [
       "(46,)"
      ]
     },
     "execution_count": 26,
     "metadata": {},
     "output_type": "execute_result"
    }
   ],
   "source": [
    "predictions[0].shape"
   ]
  },
  {
   "cell_type": "code",
   "execution_count": 27,
   "metadata": {},
   "outputs": [
    {
     "data": {
      "text/plain": [
       "1.0"
      ]
     },
     "execution_count": 27,
     "metadata": {},
     "output_type": "execute_result"
    }
   ],
   "source": [
    "np.sum(predictions[0])"
   ]
  },
  {
   "cell_type": "code",
   "execution_count": 28,
   "metadata": {},
   "outputs": [
    {
     "data": {
      "text/plain": [
       "3"
      ]
     },
     "execution_count": 28,
     "metadata": {},
     "output_type": "execute_result"
    }
   ],
   "source": [
    "np.argmax(predictions[0])"
   ]
  },
  {
   "cell_type": "code",
   "execution_count": null,
   "metadata": {
    "collapsed": true
   },
   "outputs": [],
   "source": []
  }
 ],
 "metadata": {
  "kernelspec": {
   "display_name": "Python 3",
   "language": "python",
   "name": "python3"
  },
  "language_info": {
   "codemirror_mode": {
    "name": "ipython",
    "version": 3
   },
   "file_extension": ".py",
   "mimetype": "text/x-python",
   "name": "python",
   "nbconvert_exporter": "python",
   "pygments_lexer": "ipython3",
   "version": "3.6.3"
  }
 },
 "nbformat": 4,
 "nbformat_minor": 2
}
